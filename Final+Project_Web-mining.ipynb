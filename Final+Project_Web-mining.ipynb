{
 "cells": [
  {
   "cell_type": "code",
   "execution_count": 1,
   "metadata": {
    "collapsed": true
   },
   "outputs": [],
   "source": [
    "#Importing libraries\n",
    "import pandas as pd"
   ]
  },
  {
   "cell_type": "markdown",
   "metadata": {},
   "source": [
    "# Loading the dataset"
   ]
  },
  {
   "cell_type": "code",
   "execution_count": 2,
   "metadata": {},
   "outputs": [],
   "source": [
    "data = pd.read_csv(\"https://raw.githubusercontent.com/eugeneketeni/web-mining-final-project/master/Test_file.csv\")"
   ]
  },
  {
   "cell_type": "code",
   "execution_count": 3,
   "metadata": {},
   "outputs": [
    {
     "data": {
      "text/html": [
       "<div>\n",
       "<style scoped>\n",
       "    .dataframe tbody tr th:only-of-type {\n",
       "        vertical-align: middle;\n",
       "    }\n",
       "\n",
       "    .dataframe tbody tr th {\n",
       "        vertical-align: top;\n",
       "    }\n",
       "\n",
       "    .dataframe thead th {\n",
       "        text-align: right;\n",
       "    }\n",
       "</style>\n",
       "<table border=\"1\" class=\"dataframe\">\n",
       "  <thead>\n",
       "    <tr style=\"text-align: right;\">\n",
       "      <th></th>\n",
       "      <th>user_id</th>\n",
       "      <th>user_key</th>\n",
       "      <th>created_at</th>\n",
       "      <th>created_str</th>\n",
       "      <th>retweet_count</th>\n",
       "      <th>retweeted</th>\n",
       "      <th>favorite_count</th>\n",
       "      <th>text</th>\n",
       "      <th>tweet_id</th>\n",
       "      <th>source</th>\n",
       "      <th>hashtags</th>\n",
       "      <th>expanded_urls</th>\n",
       "      <th>posted</th>\n",
       "      <th>mentions</th>\n",
       "      <th>retweeted_status_id</th>\n",
       "      <th>in_reply_to_status_id</th>\n",
       "    </tr>\n",
       "  </thead>\n",
       "  <tbody>\n",
       "    <tr>\n",
       "      <th>0</th>\n",
       "      <td>2.530000e+09</td>\n",
       "      <td>kathiemrr</td>\n",
       "      <td>1.490000e+12</td>\n",
       "      <td>########</td>\n",
       "      <td>NaN</td>\n",
       "      <td>NaN</td>\n",
       "      <td>NaN</td>\n",
       "      <td>#ThingsDoneByMistake kissing auntie in the lips</td>\n",
       "      <td>8.360000e+17</td>\n",
       "      <td>NaN</td>\n",
       "      <td>[\"ThingsDoneByMistake\"]</td>\n",
       "      <td>[]</td>\n",
       "      <td>POSTED</td>\n",
       "      <td>[]</td>\n",
       "      <td>NaN</td>\n",
       "      <td>NaN</td>\n",
       "    </tr>\n",
       "    <tr>\n",
       "      <th>1</th>\n",
       "      <td>2.530000e+09</td>\n",
       "      <td>traceyhappymom</td>\n",
       "      <td>1.470000e+12</td>\n",
       "      <td>########</td>\n",
       "      <td>NaN</td>\n",
       "      <td>NaN</td>\n",
       "      <td>NaN</td>\n",
       "      <td>RT @mc_derpin: #TheOlderWeGet the more pessimi...</td>\n",
       "      <td>7.650000e+17</td>\n",
       "      <td>NaN</td>\n",
       "      <td>[\"TheOlderWeGet\"]</td>\n",
       "      <td>[]</td>\n",
       "      <td>POSTED</td>\n",
       "      <td>[]</td>\n",
       "      <td>NaN</td>\n",
       "      <td>NaN</td>\n",
       "    </tr>\n",
       "    <tr>\n",
       "      <th>2</th>\n",
       "      <td>NaN</td>\n",
       "      <td>evewebster373</td>\n",
       "      <td>1.440000e+12</td>\n",
       "      <td>########</td>\n",
       "      <td>NaN</td>\n",
       "      <td>NaN</td>\n",
       "      <td>NaN</td>\n",
       "      <td>RT @dmataconis: Ready To Feel Like A Failure? ...</td>\n",
       "      <td>6.160000e+17</td>\n",
       "      <td>NaN</td>\n",
       "      <td>[]</td>\n",
       "      <td>[]</td>\n",
       "      <td>POSTED</td>\n",
       "      <td>[]</td>\n",
       "      <td>NaN</td>\n",
       "      <td>NaN</td>\n",
       "    </tr>\n",
       "    <tr>\n",
       "      <th>3</th>\n",
       "      <td>4.840000e+09</td>\n",
       "      <td>blacktolive</td>\n",
       "      <td>1.470000e+12</td>\n",
       "      <td>########</td>\n",
       "      <td>18.0</td>\n",
       "      <td>False</td>\n",
       "      <td>17.0</td>\n",
       "      <td>Amen! #blacklivesmatter https://t.co/wGffaOqgzl</td>\n",
       "      <td>7.770000e+17</td>\n",
       "      <td>&lt;a href=\"http://twitter.com\" rel=\"nofollow\"&gt;Tw...</td>\n",
       "      <td>[\"Blacklivesmatter\"]</td>\n",
       "      <td>[]</td>\n",
       "      <td>POSTED</td>\n",
       "      <td>[]</td>\n",
       "      <td>NaN</td>\n",
       "      <td>NaN</td>\n",
       "    </tr>\n",
       "    <tr>\n",
       "      <th>4</th>\n",
       "      <td>1.690000e+09</td>\n",
       "      <td>jacquelinisbest</td>\n",
       "      <td>1.470000e+12</td>\n",
       "      <td>########</td>\n",
       "      <td>0.0</td>\n",
       "      <td>False</td>\n",
       "      <td>0.0</td>\n",
       "      <td>RT @NahBabyNah: Twitchy: Chuck Todd caught out...</td>\n",
       "      <td>7.780000e+17</td>\n",
       "      <td>&lt;a href=\"http://twitter.com\" rel=\"nofollow\"&gt;Tw...</td>\n",
       "      <td>[\"WakeUpAmerica\"]</td>\n",
       "      <td>[\"http://ln.is/twitchy.com/loriz-31/3yafU\"]</td>\n",
       "      <td>POSTED</td>\n",
       "      <td>[\"nahbabynah\"]</td>\n",
       "      <td>7.780000e+17</td>\n",
       "      <td>NaN</td>\n",
       "    </tr>\n",
       "  </tbody>\n",
       "</table>\n",
       "</div>"
      ],
      "text/plain": [
       "        user_id         user_key    created_at created_str  retweet_count  \\\n",
       "0  2.530000e+09        kathiemrr  1.490000e+12    ########            NaN   \n",
       "1  2.530000e+09   traceyhappymom  1.470000e+12    ########            NaN   \n",
       "2           NaN    evewebster373  1.440000e+12    ########            NaN   \n",
       "3  4.840000e+09      blacktolive  1.470000e+12    ########           18.0   \n",
       "4  1.690000e+09  jacquelinisbest  1.470000e+12    ########            0.0   \n",
       "\n",
       "  retweeted  favorite_count  \\\n",
       "0       NaN             NaN   \n",
       "1       NaN             NaN   \n",
       "2       NaN             NaN   \n",
       "3     False            17.0   \n",
       "4     False             0.0   \n",
       "\n",
       "                                                text      tweet_id  \\\n",
       "0    #ThingsDoneByMistake kissing auntie in the lips  8.360000e+17   \n",
       "1  RT @mc_derpin: #TheOlderWeGet the more pessimi...  7.650000e+17   \n",
       "2  RT @dmataconis: Ready To Feel Like A Failure? ...  6.160000e+17   \n",
       "3    Amen! #blacklivesmatter https://t.co/wGffaOqgzl  7.770000e+17   \n",
       "4  RT @NahBabyNah: Twitchy: Chuck Todd caught out...  7.780000e+17   \n",
       "\n",
       "                                              source                 hashtags  \\\n",
       "0                                                NaN  [\"ThingsDoneByMistake\"]   \n",
       "1                                                NaN        [\"TheOlderWeGet\"]   \n",
       "2                                                NaN                       []   \n",
       "3  <a href=\"http://twitter.com\" rel=\"nofollow\">Tw...     [\"Blacklivesmatter\"]   \n",
       "4  <a href=\"http://twitter.com\" rel=\"nofollow\">Tw...        [\"WakeUpAmerica\"]   \n",
       "\n",
       "                                 expanded_urls  posted        mentions  \\\n",
       "0                                           []  POSTED              []   \n",
       "1                                           []  POSTED              []   \n",
       "2                                           []  POSTED              []   \n",
       "3                                           []  POSTED              []   \n",
       "4  [\"http://ln.is/twitchy.com/loriz-31/3yafU\"]  POSTED  [\"nahbabynah\"]   \n",
       "\n",
       "   retweeted_status_id  in_reply_to_status_id  \n",
       "0                  NaN                    NaN  \n",
       "1                  NaN                    NaN  \n",
       "2                  NaN                    NaN  \n",
       "3                  NaN                    NaN  \n",
       "4         7.780000e+17                    NaN  "
      ]
     },
     "execution_count": 3,
     "metadata": {},
     "output_type": "execute_result"
    }
   ],
   "source": [
    "data.head()"
   ]
  },
  {
   "cell_type": "markdown",
   "metadata": {},
   "source": [
    "# Pre-processing the tweets"
   ]
  },
  {
   "cell_type": "markdown",
   "metadata": {},
   "source": [
    "### Tokenization"
   ]
  },
  {
   "cell_type": "code",
   "execution_count": 4,
   "metadata": {
    "collapsed": true
   },
   "outputs": [],
   "source": [
    "import nltk\n",
    "from nltk import word_tokenize, sent_tokenize"
   ]
  },
  {
   "cell_type": "code",
   "execution_count": 5,
   "metadata": {
    "collapsed": true
   },
   "outputs": [],
   "source": [
    "data['text'] = data['text'].astype(str)"
   ]
  },
  {
   "cell_type": "code",
   "execution_count": 6,
   "metadata": {},
   "outputs": [
    {
     "name": "stdout",
     "output_type": "stream",
     "text": [
      "0       [#, ThingsDoneByMistake, kissing, auntie, in, ...\n",
      "1       [RT, @, mc_derpin, :, #, TheOlderWeGet, the, m...\n",
      "2       [RT, @, dmataconis, :, Ready, To, Feel, Like, ...\n",
      "3       [Amen, !, #, blacklivesmatter, https, :, //t.c...\n",
      "4       [RT, @, NahBabyNah, :, Twitchy, :, Chuck, Todd...\n",
      "5       [RT, @, mcicero10, :, #, BernieSanders, #, Tru...\n",
      "6       [RT, @, ItsJustJaynie, :, @, HillaryClinton, T...\n",
      "7                        [@, TodayCleveland, 'no, way, ']\n",
      "8       [@, NickTomaWBRE, Hi, ,, Nick, !, We, 're, hol...\n",
      "9       [What, ., Is, ., A, ., Resolution, #, My4WordN...\n",
      "10      [Lifetime, movie, your, pet, psycho, neighbor,...\n",
      "11      [RT, @, Conservatexian, :, New, post, :, ``, U...\n",
      "12      [RT, @, HillaryClinton, :, This, one, 's, for,...\n",
      "13      [RT, @, leonpui_, :, Hillary, Clinton, ,, Obam...\n",
      "14      [5th, grade, ., When, the, second, plane, hit,...\n",
      "15      [#, teapartynews, #, teaparty, #, theteaparty,...\n",
      "16      [#, TrumpBecause, #, DonaldTrump, will, not, b...\n",
      "17      [RT, @, DMashak, :, #, Debates, Chris, Wallace...\n",
      "18      [RT, @, mikefdupjourney, :, @, she_nutt, You, ...\n",
      "19      [RT, @, PrisonPlanet, :, Hillary, 's, anti-Tru...\n",
      "20      [Sheriff, Joe, Arpaio, to, speak, at, RNC, aft...\n",
      "21      [RT, @, truthBfree, :, ., @, BrewCitriot, @, j...\n",
      "22      [RT, @, TrumpSuperPAC, :, #, AfricanAmericans,...\n",
      "23      [RT, @, American_Woman4, :, #, MAGA, ,, #, FEM...\n",
      "24      [RT, @, Conservatexian, :, News, post, :, ``, ...\n",
      "25      [RT, @, 1_Hoof_Hearted, :, @, TuckerCarlson, @...\n",
      "26      [Just, What, I, (, cloud, ), Seeded, #, Conspi...\n",
      "27      [RT, @, SaraMurray, :, If, you, have, not, yet...\n",
      "28      [RT, @, ladyofcanoe, :, #, RealLifeMagicSpells...\n",
      "29      [RT, @, KyleNeven1, :, OMG, ,, remember, when,...\n",
      "                              ...                        \n",
      "2125    [RT, @, TheAmishDude, :, https, :, //t.co/0265...\n",
      "2126         [Every.Word, ., https, :, //t.co/mzO6K7QxGI]\n",
      "2127    [RT, @, blicqer, :, â–¶, @, BrotherBenX, :, Br...\n",
      "2128    [RT, @, RealFNNATO, :, Dear, #, antifa, Stop, ...\n",
      "2129    [Trump, ,, on, defense, ,, blames, media, for,...\n",
      "2130    [Trump, meets, with, Obama, at, White, House, ...\n",
      "2131    [RT, @, veteranstoday, :, Famous, Literary, Pr...\n",
      "2132    [RT, @, OneMoodyHuman, :, #, ToDoListBeforeChr...\n",
      "2133    [RT, @, BARON_1987, :, #, PreciateItPimp, is, ...\n",
      "2134    [http, :, //t.co/tZtmOuj3uU, surrealistic, but...\n",
      "2135    [@, knkcattle, @, catalishus, @, PigeonToday, ...\n",
      "2136    [RT, @, EdgeofSports, :, Remember, that, Super...\n",
      "2137    [âš¡ï¸, â€œThe, last, #, debateâ€, https, :,...\n",
      "2138    [RT, @, ringgoldsandra, :, #, TheFirst100DaysT...\n",
      "2139    [RT, @, FOX59, :, Indianapolis, couple, finds,...\n",
      "2140    [RT, @, BlackAmerican33, :, Delkism/Black, Ame...\n",
      "2141    [``, We, ca, n't, fix, a, Rigged, System, by, ...\n",
      "2142    [RT, @, DMashak, :, Assessing, Election, 2016,...\n",
      "2143    [Female, political, candidates, are, treated, ...\n",
      "2144    [Clinton, 'overheated, ', on, coolest, day, ,,...\n",
      "2145    [RT, @, rolandsmartin, :, Dylann, Roof, Found,...\n",
      "2146    [RT, @, RadioFreeTom, :, He, 's, not, wrong, ....\n",
      "2147    [RT, @, thewatchfulmom, :, @, Stevenwhirsch99,...\n",
      "2148    [RT, @, bmoredon, :, Sensing, bullshit, ,, lia...\n",
      "2149    [RT, @, blicqer, :, â–¶, WATCH, LIVE, :, Hilla...\n",
      "2150    [RT, @, jimlibertarian, :, Thanks, for, being,...\n",
      "2151    [RT, @, blackplanet, :, â€˜I, Canâ€™t, Breathe...\n",
      "2152    [RT, @, RealEagleBites, :, 91, %, of, network,...\n",
      "2153    [RT, @, thesalteater, :, There, 's, a, gay, po...\n",
      "2154    [RT, @, Zivame, :, She, won, the, previous, co...\n",
      "Name: text, Length: 2155, dtype: object\n"
     ]
    }
   ],
   "source": [
    "text = data.loc[:, \"text\"]\n",
    "data['text'] = [word_tokenize(text[i]) for i in range(len(text))]\n",
    "print(data['text'])"
   ]
  },
  {
   "cell_type": "code",
   "execution_count": null,
   "metadata": {
    "collapsed": true
   },
   "outputs": [],
   "source": []
  }
 ],
 "metadata": {
  "kernelspec": {
   "display_name": "Python 3",
   "language": "python",
   "name": "python3"
  },
  "language_info": {
   "codemirror_mode": {
    "name": "ipython",
    "version": 3
   },
   "file_extension": ".py",
   "mimetype": "text/x-python",
   "name": "python",
   "nbconvert_exporter": "python",
   "pygments_lexer": "ipython3",
   "version": "3.6.3"
  },
  "toc": {
   "nav_menu": {},
   "number_sections": true,
   "sideBar": true,
   "skip_h1_title": false,
   "title_cell": "Table of Contents",
   "title_sidebar": "Contents",
   "toc_cell": false,
   "toc_position": {},
   "toc_section_display": true,
   "toc_window_display": false
  }
 },
 "nbformat": 4,
 "nbformat_minor": 2
}
